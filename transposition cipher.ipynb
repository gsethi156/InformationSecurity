{
  "cells": [
    {
      "metadata": {},
      "cell_type": "markdown",
      "source": "# Transposition Cipher\n\n## Encryption"
    },
    {
      "metadata": {
        "trusted": true
      },
      "cell_type": "code",
      "source": "def bubbling(list_comp):\n    n = len(list_comp)\n    for i in range(n):\n        for j in range(0, n-i-1):\n            if list_comp[j] > list_comp[j+1]:\n                list_comp[j], list_comp[j+1] = list_comp[j+1], list_comp[j]\n    return list_comp\ndef bubbleSort(list_comp,length):\n    n = len(list_comp[1])\n    for i in range(n):\n        for j in range(0, n-i-1):\n            if list_comp[1][j] > list_comp[1][j+1]:\n                list_comp[1][j], list_comp[1][j+1] = list_comp[1][j+1], list_comp[1][j]\n                for d in range(2,length):\n                    list_comp[d][j], list_comp[d][j+1] = list_comp[d][j+1], list_comp[d][j]\n    return list_comp\n                \n\n\nmessage = input(\"Enter The Given message: \")\nkeyword = input(\"Enter The Given Keyword: \")\n\nordering = bubbling(list(keyword))\n\norder_keyword = \"\"\nfor i in range(0,len(keyword)):\n    for j in range(len(ordering)):\n        if keyword[i]==ordering[j]:\n            order_keyword +=str(j+1)\n\norder_keyword = int(order_keyword)\n\n\norder = order_keyword\n\nlist_comp =[]\n\nlist1 = []\nlist2 = []\nfor i in range(0,len(keyword)):\n    list1.append(keyword[i])\n    list2.append(order//(10**(len(str(order))-1)))\n    order = order%(10**((len(str(order))-1)))\nlist_comp.append(list1)\nlist_comp.append(list2)\n\nremainder = len(message) % len(str(order_keyword))\n\n\nif remainder != 0:\n    for i in range(remainder,len(str(order_keyword))):\n        message +=\"_\"\n\n\nmn = 0\nwhile mn<len(message):\n    listing = []\n    for i in range(0,len(str(order_keyword))):\n        listing.append(message[mn])\n        mn +=1\n    list_comp.append(listing)\n    \n\nlist_comp = bubbleSort(list_comp,len(list_comp))\n\nencrypted = \"\"\nfor i in range(len(str(order_keyword))):\n    for j in range(2,len(list_comp)):\n        encrypted +=list_comp[j][i]\nprint(encrypted)\n",
      "execution_count": 13,
      "outputs": [
        {
          "output_type": "stream",
          "name": "stdout",
          "text": "Enter The Given message: EXAMPLE\nEnter The Given Keyword: HARD\nXLM_EPAE\n"
        }
      ]
    },
    {
      "metadata": {},
      "cell_type": "markdown",
      "source": "# Decryption"
    },
    {
      "metadata": {
        "trusted": true
      },
      "cell_type": "code",
      "source": "def decrypt(message,code):\n    message_length = len(message)\n    code_length = len(str(code))\n    arr_len = message_length//code_length\n    arr = []\n    new_arr = []\n    for i in range(1,code_length+1):\n        new_arr.append(i)\n    arr.append(new_arr)\n    \n    \n    p = 0\n    \n    for i in range(arr_len):\n        temp_arr = []\n        for j in range(i,message_length,arr_len):\n            temp_arr.append(message[j])\n        arr.append(temp_arr)\n    \n    decrypted_code = \"\"\n    \n    \n    code_integer = str(code)\n    \n    for i in range(1,len(arr)):\n        for j in code_integer:\n            decrypted_code +=arr[i][int(j)-1]\n    print(decrypted_code)\n\n\n\n\n\ndecrypted_message = input(\"Enter The Encrypted Message:\")\nkeyword = input(\"Enter the code/order of alphabets:\")\nordering = bubbling(list(keyword))\n\n    \norder_of_keywords = \"\"\nfor i in range(0,len(keyword)):\n    for j in range(len(ordering)):\n        if keyword[i]==ordering[j]:\n            order_of_keywords +=str(j+1)\n\ncode = int(order_of_keywords)\n\ndecrypt(decrypted_message,code)\n",
      "execution_count": 14,
      "outputs": [
        {
          "output_type": "stream",
          "name": "stdout",
          "text": "Enter The Encrypted Message:XLM_EPAE\nEnter the code/order of alphabets:HARD\nEXAMPLE_\n"
        }
      ]
    }
  ],
  "metadata": {
    "kernelspec": {
      "name": "python36",
      "display_name": "Python 3.6",
      "language": "python"
    },
    "language_info": {
      "mimetype": "text/x-python",
      "nbconvert_exporter": "python",
      "name": "python",
      "pygments_lexer": "ipython3",
      "version": "3.6.6",
      "file_extension": ".py",
      "codemirror_mode": {
        "version": 3,
        "name": "ipython"
      }
    }
  },
  "nbformat": 4,
  "nbformat_minor": 2
}