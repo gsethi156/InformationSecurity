{
  "cells": [
    {
      "metadata": {
        "collapsed": true
      },
      "cell_type": "markdown",
      "source": "# Multi Fernet Module"
    },
    {
      "metadata": {
        "trusted": true
      },
      "cell_type": "code",
      "source": "from cryptography.fernet import Fernet, MultiFernet\nkey1 = Fernet(Fernet.generate_key())\nkey2 = Fernet(Fernet.generate_key())\nf = MultiFernet([key1, key2])\ntoken = f.encrypt(b\"hey buddy\")\ntoken\nprint(key1,key2)\n\nprint(token)\n\nprint(f.decrypt(token))\n",
      "execution_count": 1,
      "outputs": [
        {
          "output_type": "stream",
          "text": "<cryptography.fernet.Fernet object at 0x7fb7fcd2b828> <cryptography.fernet.Fernet object at 0x7fb7fcd2b860>\nb'gAAAAABdTDKRUUP9EWIRtQZ-T6_t6PyXlD3X8d6rmAYrilC8lj1H2kS36Rfp1Uzmu2tITUNFnCezwc9so8KtrlsR2hvJY-2T9Q=='\nb'hey buddy'\n",
          "name": "stdout"
        }
      ]
    },
    {
      "metadata": {
        "trusted": true
      },
      "cell_type": "code",
      "source": "",
      "execution_count": null,
      "outputs": []
    }
  ],
  "metadata": {
    "kernelspec": {
      "name": "python36",
      "display_name": "Python 3.6",
      "language": "python"
    },
    "language_info": {
      "mimetype": "text/x-python",
      "nbconvert_exporter": "python",
      "name": "python",
      "pygments_lexer": "ipython3",
      "version": "3.6.6",
      "file_extension": ".py",
      "codemirror_mode": {
        "version": 3,
        "name": "ipython"
      }
    }
  },
  "nbformat": 4,
  "nbformat_minor": 2
}