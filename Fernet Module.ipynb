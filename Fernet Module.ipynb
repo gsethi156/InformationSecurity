{
  "cells": [
    {
      "metadata": {},
      "cell_type": "markdown",
      "source": "# Fernet Module"
    },
    {
      "metadata": {
        "trusted": true
      },
      "cell_type": "code",
      "source": "from cryptography.fernet import Fernet\nkey = Fernet.generate_key()\nf = Fernet(key)\ntoken = f.encrypt(b\"May the Force be with you\")\ntoken\nprint(key)\n\nprint(token)\n\nprint(f.decrypt(token))",
      "execution_count": 1,
      "outputs": [
        {
          "output_type": "stream",
          "text": "b'7tbnM_vDSJFHoZR-DmqcQwy2WemyBHHXOMkcZDzf4tM='\nb'gAAAAABdTDIqdRnTvUi3UKGviF3_A60jhywLGDUJJ94ZPTUBHWPEu6cPnzvRpy7gGK4-nI2reKRuExaAuiC6fcCUYKy9UY52a59EvzpFMGsNNYy7kR4ZISI='\nb'May the Force be with you'\n",
          "name": "stdout"
        }
      ]
    },
    {
      "metadata": {
        "trusted": true
      },
      "cell_type": "code",
      "source": "",
      "execution_count": null,
      "outputs": []
    }
  ],
  "metadata": {
    "kernelspec": {
      "name": "python36",
      "display_name": "Python 3.6",
      "language": "python"
    },
    "language_info": {
      "mimetype": "text/x-python",
      "nbconvert_exporter": "python",
      "name": "python",
      "pygments_lexer": "ipython3",
      "version": "3.6.6",
      "file_extension": ".py",
      "codemirror_mode": {
        "version": 3,
        "name": "ipython"
      }
    }
  },
  "nbformat": 4,
  "nbformat_minor": 2
}